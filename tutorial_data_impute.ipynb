{
 "cells": [
  {
   "cell_type": "code",
   "metadata": {
    "tags": [],
    "cell_id": "a21bb5a1-c8ca-4a09-ac0a-c16ed3cd6b8c",
    "deepnote_to_be_reexecuted": false,
    "source_hash": "e0448e2f",
    "execution_start": 1658810243214,
    "execution_millis": 4136,
    "deepnote_cell_type": "code",
    "deepnote_cell_height": 376.4375
   },
   "source": "!pip install kaggle\n",
   "execution_count": null,
   "outputs": [
    {
     "name": "stdout",
     "text": "Requirement already satisfied: kaggle in /root/venv/lib/python3.9/site-packages (1.5.12)\nRequirement already satisfied: urllib3 in /shared-libs/python3.9/py/lib/python3.9/site-packages (from kaggle) (1.26.9)\nRequirement already satisfied: six>=1.10 in /shared-libs/python3.9/py-core/lib/python3.9/site-packages (from kaggle) (1.16.0)\nRequirement already satisfied: certifi in /shared-libs/python3.9/py/lib/python3.9/site-packages (from kaggle) (2022.5.18.1)\nRequirement already satisfied: requests in /shared-libs/python3.9/py/lib/python3.9/site-packages (from kaggle) (2.27.1)\nRequirement already satisfied: tqdm in /shared-libs/python3.9/py/lib/python3.9/site-packages (from kaggle) (4.64.0)\nRequirement already satisfied: python-slugify in /shared-libs/python3.9/py/lib/python3.9/site-packages (from kaggle) (6.1.2)\nRequirement already satisfied: python-dateutil in /shared-libs/python3.9/py-core/lib/python3.9/site-packages (from kaggle) (2.8.2)\nRequirement already satisfied: text-unidecode>=1.3 in /shared-libs/python3.9/py/lib/python3.9/site-packages (from python-slugify->kaggle) (1.3)\nRequirement already satisfied: idna<4,>=2.5 in /shared-libs/python3.9/py-core/lib/python3.9/site-packages (from requests->kaggle) (3.3)\nRequirement already satisfied: charset-normalizer~=2.0.0 in /shared-libs/python3.9/py-core/lib/python3.9/site-packages (from requests->kaggle) (2.0.12)\n\u001b[33mWARNING: You are using pip version 22.0.4; however, version 22.2 is available.\nYou should consider upgrading via the '/root/venv/bin/python -m pip install --upgrade pip' command.\u001b[0m\u001b[33m\n\u001b[0m",
     "output_type": "stream"
    }
   ]
  },
  {
   "cell_type": "code",
   "metadata": {
    "cell_id": "3c654ac44af840998ed7b7871435f7a7",
    "tags": [],
    "deepnote_to_be_reexecuted": false,
    "source_hash": "28741a37",
    "execution_start": 1658810247363,
    "execution_millis": 1169,
    "deepnote_app_coordinates": {
     "x": 0,
     "y": 7,
     "w": 12,
     "h": 5
    },
    "deepnote_app_is_output_hidden": true,
    "deepnote_cell_type": "code",
    "deepnote_cell_height": 253.5
   },
   "source": "!kaggle datasets download -d defcodeking/spaceship-titanic-prepared-datasets",
   "execution_count": null,
   "outputs": [
    {
     "name": "stdout",
     "text": "Traceback (most recent call last):\n  File \"/root/venv/bin/kaggle\", line 5, in <module>\n    from kaggle.cli import main\n  File \"/root/venv/lib/python3.9/site-packages/kaggle/__init__.py\", line 23, in <module>\n    api.authenticate()\n  File \"/root/venv/lib/python3.9/site-packages/kaggle/api/kaggle_api_extended.py\", line 164, in authenticate\n    raise IOError('Could not find {}. Make sure it\\'s located in'\nOSError: Could not find kaggle.json. Make sure it's located in /root/.kaggle. Or use the environment method.\n",
     "output_type": "stream"
    }
   ]
  },
  {
   "cell_type": "code",
   "metadata": {
    "cell_id": "c8f2d60d05184a29864942e746d62b23",
    "tags": [],
    "deepnote_to_be_reexecuted": false,
    "source_hash": "c5724a64",
    "execution_start": 1658810248544,
    "execution_millis": 9665,
    "deepnote_app_coordinates": {
     "x": 0,
     "y": 13,
     "w": 12,
     "h": 5
    },
    "deepnote_app_is_output_hidden": true,
    "deepnote_cell_type": "code",
    "deepnote_cell_height": 311.875
   },
   "source": "!kaggle competitions download -c spaceship-titanic\n!unzip -d ./dataset spaceship-titanic",
   "execution_count": null,
   "outputs": [
    {
     "name": "stdout",
     "text": "Traceback (most recent call last):\n  File \"/root/venv/bin/kaggle\", line 5, in <module>\n    from kaggle.cli import main\n  File \"/root/venv/lib/python3.9/site-packages/kaggle/__init__.py\", line 23, in <module>\n    api.authenticate()\n  File \"/root/venv/lib/python3.9/site-packages/kaggle/api/kaggle_api_extended.py\", line 164, in authenticate\n    raise IOError('Could not find {}. Make sure it\\'s located in'\nOSError: Could not find kaggle.json. Make sure it's located in /root/.kaggle. Or use the environment method.\nArchive:  spaceship-titanic.zip\nreplace ./dataset/sample_submission.csv? [y]es, [n]o, [A]ll, [N]one, [r]ename: ^C\n",
     "output_type": "stream"
    }
   ]
  },
  {
   "cell_type": "code",
   "metadata": {
    "cell_id": "d47bcbfeaf95400983d9f5bc7e1607fa",
    "tags": [],
    "deepnote_to_be_reexecuted": false,
    "source_hash": "ce27151c",
    "execution_start": 1658810269630,
    "execution_millis": 3,
    "deepnote_app_coordinates": {
     "x": 0,
     "y": 19,
     "w": 12,
     "h": 5
    },
    "deepnote_cell_type": "code",
    "deepnote_cell_height": 189
   },
   "source": "import numpy as np\nimport pandas as pd\nfrom sklearn.impute import SimpleImputer\nfrom sklearn.experimental import enable_iterative_imputer\nfrom sklearn.impute import IterativeImputer,KNNImputer\nfrom sklearn.pipeline import FeatureUnion,make_pipeline,Pipeline\nfrom sklearn.compose import ColumnTransformer",
   "execution_count": null,
   "outputs": []
  },
  {
   "cell_type": "code",
   "metadata": {
    "cell_id": "52f23b8b1af149bda0e17897ed9cc72c",
    "tags": [],
    "deepnote_to_be_reexecuted": false,
    "source_hash": "56ea59c2",
    "execution_start": 1658810271302,
    "execution_millis": 906,
    "deepnote_app_coordinates": {
     "x": 0,
     "y": 25,
     "w": 12,
     "h": 5
    },
    "deepnote_cell_type": "code",
    "deepnote_cell_height": 635
   },
   "source": "df = pd.read_csv('./dataset/train.csv')\ndf",
   "execution_count": null,
   "outputs": [
    {
     "output_type": "execute_result",
     "execution_count": 18,
     "data": {
      "application/vnd.deepnote.dataframe.v3+json": {
       "column_count": 14,
       "row_count": 8693,
       "columns": [
        {
         "name": "PassengerId",
         "dtype": "object",
         "stats": {
          "unique_count": 8693,
          "nan_count": 0,
          "categories": [
           {
            "name": "0001_01",
            "count": 1
           },
           {
            "name": "0002_01",
            "count": 1
           },
           {
            "name": "8691 others",
            "count": 8691
           }
          ]
         }
        },
        {
         "name": "HomePlanet",
         "dtype": "object",
         "stats": {
          "unique_count": 3,
          "nan_count": 201,
          "categories": [
           {
            "name": "Earth",
            "count": 4602
           },
           {
            "name": "2 others",
            "count": 3890
           },
           {
            "name": "Missing",
            "count": 201
           }
          ]
         }
        },
        {
         "name": "CryoSleep",
         "dtype": "object",
         "stats": {
          "unique_count": 2,
          "nan_count": 217,
          "categories": [
           {
            "name": "False",
            "count": 5439
           },
           {
            "name": "True",
            "count": 3037
           },
           {
            "name": "Missing",
            "count": 217
           }
          ]
         }
        },
        {
         "name": "Cabin",
         "dtype": "object",
         "stats": {
          "unique_count": 6560,
          "nan_count": 199,
          "categories": [
           {
            "name": "G/734/S",
            "count": 8
           },
           {
            "name": "6559 others",
            "count": 8486
           },
           {
            "name": "Missing",
            "count": 199
           }
          ]
         }
        },
        {
         "name": "Destination",
         "dtype": "object",
         "stats": {
          "unique_count": 3,
          "nan_count": 182,
          "categories": [
           {
            "name": "TRAPPIST-1e",
            "count": 5915
           },
           {
            "name": "2 others",
            "count": 2596
           },
           {
            "name": "Missing",
            "count": 182
           }
          ]
         }
        },
        {
         "name": "Age",
         "dtype": "float64",
         "stats": {
          "unique_count": 80,
          "nan_count": 179,
          "min": "0.0",
          "max": "79.0",
          "histogram": [
           {
            "bin_start": 0,
            "bin_end": 7.9,
            "count": 591
           },
           {
            "bin_start": 7.9,
            "bin_end": 15.8,
            "count": 649
           },
           {
            "bin_start": 15.8,
            "bin_end": 23.700000000000003,
            "count": 2089
           },
           {
            "bin_start": 23.700000000000003,
            "bin_end": 31.6,
            "count": 1976
           },
           {
            "bin_start": 31.6,
            "bin_end": 39.5,
            "count": 1350
           },
           {
            "bin_start": 39.5,
            "bin_end": 47.400000000000006,
            "count": 893
           },
           {
            "bin_start": 47.400000000000006,
            "bin_end": 55.300000000000004,
            "count": 536
           },
           {
            "bin_start": 55.300000000000004,
            "bin_end": 63.2,
            "count": 294
           },
           {
            "bin_start": 63.2,
            "bin_end": 71.10000000000001,
            "count": 106
           },
           {
            "bin_start": 71.10000000000001,
            "bin_end": 79,
            "count": 30
           }
          ]
         }
        },
        {
         "name": "VIP",
         "dtype": "object",
         "stats": {
          "unique_count": 2,
          "nan_count": 203,
          "categories": [
           {
            "name": "False",
            "count": 8291
           },
           {
            "name": "True",
            "count": 199
           },
           {
            "name": "Missing",
            "count": 203
           }
          ]
         }
        },
        {
         "name": "RoomService",
         "dtype": "float64",
         "stats": {
          "unique_count": 1273,
          "nan_count": 181,
          "min": "0.0",
          "max": "14327.0",
          "histogram": [
           {
            "bin_start": 0,
            "bin_end": 1432.7,
            "count": 8156
           },
           {
            "bin_start": 1432.7,
            "bin_end": 2865.4,
            "count": 254
           },
           {
            "bin_start": 2865.4,
            "bin_end": 4298.1,
            "count": 65
           },
           {
            "bin_start": 4298.1,
            "bin_end": 5730.8,
            "count": 17
           },
           {
            "bin_start": 5730.8,
            "bin_end": 7163.5,
            "count": 9
           },
           {
            "bin_start": 7163.5,
            "bin_end": 8596.2,
            "count": 9
           },
           {
            "bin_start": 8596.2,
            "bin_end": 10028.9,
            "count": 1
           },
           {
            "bin_start": 10028.9,
            "bin_end": 11461.6,
            "count": 0
           },
           {
            "bin_start": 11461.6,
            "bin_end": 12894.300000000001,
            "count": 0
           },
           {
            "bin_start": 12894.300000000001,
            "bin_end": 14327,
            "count": 1
           }
          ]
         }
        },
        {
         "name": "FoodCourt",
         "dtype": "float64",
         "stats": {
          "unique_count": 1507,
          "nan_count": 183,
          "min": "0.0",
          "max": "29813.0",
          "histogram": [
           {
            "bin_start": 0,
            "bin_end": 2981.3,
            "count": 8114
           },
           {
            "bin_start": 2981.3,
            "bin_end": 5962.6,
            "count": 250
           },
           {
            "bin_start": 5962.6,
            "bin_end": 8943.900000000001,
            "count": 80
           },
           {
            "bin_start": 8943.900000000001,
            "bin_end": 11925.2,
            "count": 34
           },
           {
            "bin_start": 11925.2,
            "bin_end": 14906.5,
            "count": 15
           },
           {
            "bin_start": 14906.5,
            "bin_end": 17887.800000000003,
            "count": 9
           },
           {
            "bin_start": 17887.800000000003,
            "bin_end": 20869.100000000002,
            "count": 3
           },
           {
            "bin_start": 20869.100000000002,
            "bin_end": 23850.4,
            "count": 1
           },
           {
            "bin_start": 23850.4,
            "bin_end": 26831.7,
            "count": 1
           },
           {
            "bin_start": 26831.7,
            "bin_end": 29813,
            "count": 3
           }
          ]
         }
        },
        {
         "name": "ShoppingMall",
         "dtype": "float64",
         "stats": {
          "unique_count": 1115,
          "nan_count": 208,
          "min": "0.0",
          "max": "23492.0",
          "histogram": [
           {
            "bin_start": 0,
            "bin_end": 2349.2,
            "count": 8401
           },
           {
            "bin_start": 2349.2,
            "bin_end": 4698.4,
            "count": 62
           },
           {
            "bin_start": 4698.4,
            "bin_end": 7047.599999999999,
            "count": 13
           },
           {
            "bin_start": 7047.599999999999,
            "bin_end": 9396.8,
            "count": 5
           },
           {
            "bin_start": 9396.8,
            "bin_end": 11746,
            "count": 2
           },
           {
            "bin_start": 11746,
            "bin_end": 14095.199999999999,
            "count": 1
           },
           {
            "bin_start": 14095.199999999999,
            "bin_end": 16444.399999999998,
            "count": 0
           },
           {
            "bin_start": 16444.399999999998,
            "bin_end": 18793.6,
            "count": 0
           },
           {
            "bin_start": 18793.6,
            "bin_end": 21142.8,
            "count": 0
           },
           {
            "bin_start": 21142.8,
            "bin_end": 23492,
            "count": 1
           }
          ]
         }
        },
        {
         "name": "Spa",
         "dtype": "float64",
         "stats": {
          "unique_count": 1327,
          "nan_count": 183,
          "min": "0.0",
          "max": "22408.0",
          "histogram": [
           {
            "bin_start": 0,
            "bin_end": 2240.8,
            "count": 8204
           },
           {
            "bin_start": 2240.8,
            "bin_end": 4481.6,
            "count": 180
           },
           {
            "bin_start": 4481.6,
            "bin_end": 6722.400000000001,
            "count": 73
           },
           {
            "bin_start": 6722.400000000001,
            "bin_end": 8963.2,
            "count": 22
           },
           {
            "bin_start": 8963.2,
            "bin_end": 11204,
            "count": 15
           },
           {
            "bin_start": 11204,
            "bin_end": 13444.800000000001,
            "count": 6
           },
           {
            "bin_start": 13444.800000000001,
            "bin_end": 15685.600000000002,
            "count": 6
           },
           {
            "bin_start": 15685.600000000002,
            "bin_end": 17926.4,
            "count": 2
           },
           {
            "bin_start": 17926.4,
            "bin_end": 20167.2,
            "count": 1
           },
           {
            "bin_start": 20167.2,
            "bin_end": 22408,
            "count": 1
           }
          ]
         }
        },
        {
         "name": "VRDeck",
         "dtype": "float64"
        },
        {
         "name": "Name",
         "dtype": "object"
        },
        {
         "name": "Transported",
         "dtype": "bool"
        },
        {
         "name": "_deepnote_index_column",
         "dtype": "int64"
        }
       ],
       "rows": [
        {
         "PassengerId": "0001_01",
         "HomePlanet": "Europa",
         "CryoSleep": "False",
         "Cabin": "B/0/P",
         "Destination": "TRAPPIST-1e",
         "Age": 39,
         "VIP": "False",
         "RoomService": 0,
         "FoodCourt": 0,
         "ShoppingMall": 0,
         "Spa": 0,
         "VRDeck": 0,
         "Name": "Maham Ofracculy",
         "Transported": false,
         "_deepnote_index_column": 0
        },
        {
         "PassengerId": "0002_01",
         "HomePlanet": "Earth",
         "CryoSleep": "False",
         "Cabin": "F/0/S",
         "Destination": "TRAPPIST-1e",
         "Age": 24,
         "VIP": "False",
         "RoomService": 109,
         "FoodCourt": 9,
         "ShoppingMall": 25,
         "Spa": 549,
         "VRDeck": 44,
         "Name": "Juanna Vines",
         "Transported": true,
         "_deepnote_index_column": 1
        },
        {
         "PassengerId": "0003_01",
         "HomePlanet": "Europa",
         "CryoSleep": "False",
         "Cabin": "A/0/S",
         "Destination": "TRAPPIST-1e",
         "Age": 58,
         "VIP": "True",
         "RoomService": 43,
         "FoodCourt": 3576,
         "ShoppingMall": 0,
         "Spa": 6715,
         "VRDeck": 49,
         "Name": "Altark Susent",
         "Transported": false,
         "_deepnote_index_column": 2
        },
        {
         "PassengerId": "0003_02",
         "HomePlanet": "Europa",
         "CryoSleep": "False",
         "Cabin": "A/0/S",
         "Destination": "TRAPPIST-1e",
         "Age": 33,
         "VIP": "False",
         "RoomService": 0,
         "FoodCourt": 1283,
         "ShoppingMall": 371,
         "Spa": 3329,
         "VRDeck": 193,
         "Name": "Solam Susent",
         "Transported": false,
         "_deepnote_index_column": 3
        },
        {
         "PassengerId": "0004_01",
         "HomePlanet": "Earth",
         "CryoSleep": "False",
         "Cabin": "F/1/S",
         "Destination": "TRAPPIST-1e",
         "Age": 16,
         "VIP": "False",
         "RoomService": 303,
         "FoodCourt": 70,
         "ShoppingMall": 151,
         "Spa": 565,
         "VRDeck": 2,
         "Name": "Willy Santantines",
         "Transported": true,
         "_deepnote_index_column": 4
        },
        {
         "PassengerId": "0005_01",
         "HomePlanet": "Earth",
         "CryoSleep": "False",
         "Cabin": "F/0/P",
         "Destination": "PSO J318.5-22",
         "Age": 44,
         "VIP": "False",
         "RoomService": 0,
         "FoodCourt": 483,
         "ShoppingMall": 0,
         "Spa": 291,
         "VRDeck": 0,
         "Name": "Sandie Hinetthews",
         "Transported": true,
         "_deepnote_index_column": 5
        },
        {
         "PassengerId": "0006_01",
         "HomePlanet": "Earth",
         "CryoSleep": "False",
         "Cabin": "F/2/S",
         "Destination": "TRAPPIST-1e",
         "Age": 26,
         "VIP": "False",
         "RoomService": 42,
         "FoodCourt": 1539,
         "ShoppingMall": 3,
         "Spa": 0,
         "VRDeck": 0,
         "Name": "Billex Jacostaffey",
         "Transported": true,
         "_deepnote_index_column": 6
        },
        {
         "PassengerId": "0006_02",
         "HomePlanet": "Earth",
         "CryoSleep": "True",
         "Cabin": "G/0/S",
         "Destination": "TRAPPIST-1e",
         "Age": 28,
         "VIP": "False",
         "RoomService": 0,
         "FoodCourt": 0,
         "ShoppingMall": 0,
         "Spa": 0,
         "VRDeck": "nan",
         "Name": "Candra Jacostaffey",
         "Transported": true,
         "_deepnote_index_column": 7
        },
        {
         "PassengerId": "0007_01",
         "HomePlanet": "Earth",
         "CryoSleep": "False",
         "Cabin": "F/3/S",
         "Destination": "TRAPPIST-1e",
         "Age": 35,
         "VIP": "False",
         "RoomService": 0,
         "FoodCourt": 785,
         "ShoppingMall": 17,
         "Spa": 216,
         "VRDeck": 0,
         "Name": "Andona Beston",
         "Transported": true,
         "_deepnote_index_column": 8
        },
        {
         "PassengerId": "0008_01",
         "HomePlanet": "Europa",
         "CryoSleep": "True",
         "Cabin": "B/1/P",
         "Destination": "55 Cancri e",
         "Age": 14,
         "VIP": "False",
         "RoomService": 0,
         "FoodCourt": 0,
         "ShoppingMall": 0,
         "Spa": 0,
         "VRDeck": 0,
         "Name": "Erraiam Flatic",
         "Transported": true,
         "_deepnote_index_column": 9
        }
       ]
      },
      "text/plain": "     PassengerId HomePlanet CryoSleep     Cabin    Destination   Age    VIP  \\\n0        0001_01     Europa     False     B/0/P    TRAPPIST-1e  39.0  False   \n1        0002_01      Earth     False     F/0/S    TRAPPIST-1e  24.0  False   \n2        0003_01     Europa     False     A/0/S    TRAPPIST-1e  58.0   True   \n3        0003_02     Europa     False     A/0/S    TRAPPIST-1e  33.0  False   \n4        0004_01      Earth     False     F/1/S    TRAPPIST-1e  16.0  False   \n...          ...        ...       ...       ...            ...   ...    ...   \n8688     9276_01     Europa     False    A/98/P    55 Cancri e  41.0   True   \n8689     9278_01      Earth      True  G/1499/S  PSO J318.5-22  18.0  False   \n8690     9279_01      Earth     False  G/1500/S    TRAPPIST-1e  26.0  False   \n8691     9280_01     Europa     False   E/608/S    55 Cancri e  32.0  False   \n8692     9280_02     Europa     False   E/608/S    TRAPPIST-1e  44.0  False   \n\n      RoomService  FoodCourt  ShoppingMall     Spa  VRDeck               Name  \\\n0             0.0        0.0           0.0     0.0     0.0    Maham Ofracculy   \n1           109.0        9.0          25.0   549.0    44.0       Juanna Vines   \n2            43.0     3576.0           0.0  6715.0    49.0      Altark Susent   \n3             0.0     1283.0         371.0  3329.0   193.0       Solam Susent   \n4           303.0       70.0         151.0   565.0     2.0  Willy Santantines   \n...           ...        ...           ...     ...     ...                ...   \n8688          0.0     6819.0           0.0  1643.0    74.0  Gravior Noxnuther   \n8689          0.0        0.0           0.0     0.0     0.0    Kurta Mondalley   \n8690          0.0        0.0        1872.0     1.0     0.0       Fayey Connon   \n8691          0.0     1049.0           0.0   353.0  3235.0   Celeon Hontichre   \n8692        126.0     4688.0           0.0     0.0    12.0   Propsh Hontichre   \n\n      Transported  \n0           False  \n1            True  \n2           False  \n3           False  \n4            True  \n...           ...  \n8688        False  \n8689        False  \n8690         True  \n8691        False  \n8692         True  \n\n[8693 rows x 14 columns]",
      "text/html": "<div>\n<style scoped>\n    .dataframe tbody tr th:only-of-type {\n        vertical-align: middle;\n    }\n\n    .dataframe tbody tr th {\n        vertical-align: top;\n    }\n\n    .dataframe thead th {\n        text-align: right;\n    }\n</style>\n<table border=\"1\" class=\"dataframe\">\n  <thead>\n    <tr style=\"text-align: right;\">\n      <th></th>\n      <th>PassengerId</th>\n      <th>HomePlanet</th>\n      <th>CryoSleep</th>\n      <th>Cabin</th>\n      <th>Destination</th>\n      <th>Age</th>\n      <th>VIP</th>\n      <th>RoomService</th>\n      <th>FoodCourt</th>\n      <th>ShoppingMall</th>\n      <th>Spa</th>\n      <th>VRDeck</th>\n      <th>Name</th>\n      <th>Transported</th>\n    </tr>\n  </thead>\n  <tbody>\n    <tr>\n      <th>0</th>\n      <td>0001_01</td>\n      <td>Europa</td>\n      <td>False</td>\n      <td>B/0/P</td>\n      <td>TRAPPIST-1e</td>\n      <td>39.0</td>\n      <td>False</td>\n      <td>0.0</td>\n      <td>0.0</td>\n      <td>0.0</td>\n      <td>0.0</td>\n      <td>0.0</td>\n      <td>Maham Ofracculy</td>\n      <td>False</td>\n    </tr>\n    <tr>\n      <th>1</th>\n      <td>0002_01</td>\n      <td>Earth</td>\n      <td>False</td>\n      <td>F/0/S</td>\n      <td>TRAPPIST-1e</td>\n      <td>24.0</td>\n      <td>False</td>\n      <td>109.0</td>\n      <td>9.0</td>\n      <td>25.0</td>\n      <td>549.0</td>\n      <td>44.0</td>\n      <td>Juanna Vines</td>\n      <td>True</td>\n    </tr>\n    <tr>\n      <th>2</th>\n      <td>0003_01</td>\n      <td>Europa</td>\n      <td>False</td>\n      <td>A/0/S</td>\n      <td>TRAPPIST-1e</td>\n      <td>58.0</td>\n      <td>True</td>\n      <td>43.0</td>\n      <td>3576.0</td>\n      <td>0.0</td>\n      <td>6715.0</td>\n      <td>49.0</td>\n      <td>Altark Susent</td>\n      <td>False</td>\n    </tr>\n    <tr>\n      <th>3</th>\n      <td>0003_02</td>\n      <td>Europa</td>\n      <td>False</td>\n      <td>A/0/S</td>\n      <td>TRAPPIST-1e</td>\n      <td>33.0</td>\n      <td>False</td>\n      <td>0.0</td>\n      <td>1283.0</td>\n      <td>371.0</td>\n      <td>3329.0</td>\n      <td>193.0</td>\n      <td>Solam Susent</td>\n      <td>False</td>\n    </tr>\n    <tr>\n      <th>4</th>\n      <td>0004_01</td>\n      <td>Earth</td>\n      <td>False</td>\n      <td>F/1/S</td>\n      <td>TRAPPIST-1e</td>\n      <td>16.0</td>\n      <td>False</td>\n      <td>303.0</td>\n      <td>70.0</td>\n      <td>151.0</td>\n      <td>565.0</td>\n      <td>2.0</td>\n      <td>Willy Santantines</td>\n      <td>True</td>\n    </tr>\n    <tr>\n      <th>...</th>\n      <td>...</td>\n      <td>...</td>\n      <td>...</td>\n      <td>...</td>\n      <td>...</td>\n      <td>...</td>\n      <td>...</td>\n      <td>...</td>\n      <td>...</td>\n      <td>...</td>\n      <td>...</td>\n      <td>...</td>\n      <td>...</td>\n      <td>...</td>\n    </tr>\n    <tr>\n      <th>8688</th>\n      <td>9276_01</td>\n      <td>Europa</td>\n      <td>False</td>\n      <td>A/98/P</td>\n      <td>55 Cancri e</td>\n      <td>41.0</td>\n      <td>True</td>\n      <td>0.0</td>\n      <td>6819.0</td>\n      <td>0.0</td>\n      <td>1643.0</td>\n      <td>74.0</td>\n      <td>Gravior Noxnuther</td>\n      <td>False</td>\n    </tr>\n    <tr>\n      <th>8689</th>\n      <td>9278_01</td>\n      <td>Earth</td>\n      <td>True</td>\n      <td>G/1499/S</td>\n      <td>PSO J318.5-22</td>\n      <td>18.0</td>\n      <td>False</td>\n      <td>0.0</td>\n      <td>0.0</td>\n      <td>0.0</td>\n      <td>0.0</td>\n      <td>0.0</td>\n      <td>Kurta Mondalley</td>\n      <td>False</td>\n    </tr>\n    <tr>\n      <th>8690</th>\n      <td>9279_01</td>\n      <td>Earth</td>\n      <td>False</td>\n      <td>G/1500/S</td>\n      <td>TRAPPIST-1e</td>\n      <td>26.0</td>\n      <td>False</td>\n      <td>0.0</td>\n      <td>0.0</td>\n      <td>1872.0</td>\n      <td>1.0</td>\n      <td>0.0</td>\n      <td>Fayey Connon</td>\n      <td>True</td>\n    </tr>\n    <tr>\n      <th>8691</th>\n      <td>9280_01</td>\n      <td>Europa</td>\n      <td>False</td>\n      <td>E/608/S</td>\n      <td>55 Cancri e</td>\n      <td>32.0</td>\n      <td>False</td>\n      <td>0.0</td>\n      <td>1049.0</td>\n      <td>0.0</td>\n      <td>353.0</td>\n      <td>3235.0</td>\n      <td>Celeon Hontichre</td>\n      <td>False</td>\n    </tr>\n    <tr>\n      <th>8692</th>\n      <td>9280_02</td>\n      <td>Europa</td>\n      <td>False</td>\n      <td>E/608/S</td>\n      <td>TRAPPIST-1e</td>\n      <td>44.0</td>\n      <td>False</td>\n      <td>126.0</td>\n      <td>4688.0</td>\n      <td>0.0</td>\n      <td>0.0</td>\n      <td>12.0</td>\n      <td>Propsh Hontichre</td>\n      <td>True</td>\n    </tr>\n  </tbody>\n</table>\n<p>8693 rows × 14 columns</p>\n</div>"
     },
     "metadata": {}
    }
   ]
  },
  {
   "cell_type": "code",
   "metadata": {
    "cell_id": "cffab13c3af54904939eef1cc030d2a9",
    "tags": [],
    "deepnote_to_be_reexecuted": false,
    "source_hash": "14f60b8f",
    "execution_start": 1658810286346,
    "execution_millis": 1,
    "deepnote_app_coordinates": {
     "x": 0,
     "y": 31,
     "w": 12,
     "h": 5
    },
    "deepnote_cell_type": "code",
    "deepnote_cell_height": 118.1875,
    "deepnote_output_heights": [
     21.1875
    ]
   },
   "source": "df.shape",
   "execution_count": null,
   "outputs": [
    {
     "output_type": "execute_result",
     "execution_count": 19,
     "data": {
      "text/plain": "(8693, 14)"
     },
     "metadata": {}
    }
   ]
  },
  {
   "cell_type": "code",
   "metadata": {
    "cell_id": "b3761298225f4804b820419a7c924604",
    "tags": [],
    "deepnote_to_be_reexecuted": false,
    "source_hash": "f88152d9",
    "execution_start": 1658810288326,
    "execution_millis": 43,
    "deepnote_app_coordinates": {
     "x": 0,
     "y": 37,
     "w": 12,
     "h": 5
    },
    "deepnote_cell_type": "code",
    "deepnote_cell_height": 518
   },
   "source": "df.describe()",
   "execution_count": null,
   "outputs": [
    {
     "output_type": "execute_result",
     "execution_count": 20,
     "data": {
      "application/vnd.deepnote.dataframe.v3+json": {
       "column_count": 6,
       "row_count": 8,
       "columns": [
        {
         "name": "Age",
         "dtype": "float64",
         "stats": {
          "unique_count": 8,
          "nan_count": 0,
          "min": "0.0",
          "max": "8514.0",
          "histogram": [
           {
            "bin_start": 0,
            "bin_end": 851.4,
            "count": 7
           },
           {
            "bin_start": 851.4,
            "bin_end": 1702.8,
            "count": 0
           },
           {
            "bin_start": 1702.8,
            "bin_end": 2554.2,
            "count": 0
           },
           {
            "bin_start": 2554.2,
            "bin_end": 3405.6,
            "count": 0
           },
           {
            "bin_start": 3405.6,
            "bin_end": 4257,
            "count": 0
           },
           {
            "bin_start": 4257,
            "bin_end": 5108.4,
            "count": 0
           },
           {
            "bin_start": 5108.4,
            "bin_end": 5959.8,
            "count": 0
           },
           {
            "bin_start": 5959.8,
            "bin_end": 6811.2,
            "count": 0
           },
           {
            "bin_start": 6811.2,
            "bin_end": 7662.599999999999,
            "count": 0
           },
           {
            "bin_start": 7662.599999999999,
            "bin_end": 8514,
            "count": 1
           }
          ]
         }
        },
        {
         "name": "RoomService",
         "dtype": "float64",
         "stats": {
          "unique_count": 6,
          "nan_count": 0,
          "min": "0.0",
          "max": "14327.0",
          "histogram": [
           {
            "bin_start": 0,
            "bin_end": 1432.7,
            "count": 6
           },
           {
            "bin_start": 1432.7,
            "bin_end": 2865.4,
            "count": 0
           },
           {
            "bin_start": 2865.4,
            "bin_end": 4298.1,
            "count": 0
           },
           {
            "bin_start": 4298.1,
            "bin_end": 5730.8,
            "count": 0
           },
           {
            "bin_start": 5730.8,
            "bin_end": 7163.5,
            "count": 0
           },
           {
            "bin_start": 7163.5,
            "bin_end": 8596.2,
            "count": 1
           },
           {
            "bin_start": 8596.2,
            "bin_end": 10028.9,
            "count": 0
           },
           {
            "bin_start": 10028.9,
            "bin_end": 11461.6,
            "count": 0
           },
           {
            "bin_start": 11461.6,
            "bin_end": 12894.300000000001,
            "count": 0
           },
           {
            "bin_start": 12894.300000000001,
            "bin_end": 14327,
            "count": 1
           }
          ]
         }
        },
        {
         "name": "FoodCourt",
         "dtype": "float64",
         "stats": {
          "unique_count": 6,
          "nan_count": 0,
          "min": "0.0",
          "max": "29813.0",
          "histogram": [
           {
            "bin_start": 0,
            "bin_end": 2981.3,
            "count": 6
           },
           {
            "bin_start": 2981.3,
            "bin_end": 5962.6,
            "count": 0
           },
           {
            "bin_start": 5962.6,
            "bin_end": 8943.900000000001,
            "count": 1
           },
           {
            "bin_start": 8943.900000000001,
            "bin_end": 11925.2,
            "count": 0
           },
           {
            "bin_start": 11925.2,
            "bin_end": 14906.5,
            "count": 0
           },
           {
            "bin_start": 14906.5,
            "bin_end": 17887.800000000003,
            "count": 0
           },
           {
            "bin_start": 17887.800000000003,
            "bin_end": 20869.100000000002,
            "count": 0
           },
           {
            "bin_start": 20869.100000000002,
            "bin_end": 23850.4,
            "count": 0
           },
           {
            "bin_start": 23850.4,
            "bin_end": 26831.7,
            "count": 0
           },
           {
            "bin_start": 26831.7,
            "bin_end": 29813,
            "count": 1
           }
          ]
         }
        },
        {
         "name": "ShoppingMall",
         "dtype": "float64",
         "stats": {
          "unique_count": 6,
          "nan_count": 0,
          "min": "0.0",
          "max": "23492.0",
          "histogram": [
           {
            "bin_start": 0,
            "bin_end": 2349.2,
            "count": 6
           },
           {
            "bin_start": 2349.2,
            "bin_end": 4698.4,
            "count": 0
           },
           {
            "bin_start": 4698.4,
            "bin_end": 7047.599999999999,
            "count": 0
           },
           {
            "bin_start": 7047.599999999999,
            "bin_end": 9396.8,
            "count": 1
           },
           {
            "bin_start": 9396.8,
            "bin_end": 11746,
            "count": 0
           },
           {
            "bin_start": 11746,
            "bin_end": 14095.199999999999,
            "count": 0
           },
           {
            "bin_start": 14095.199999999999,
            "bin_end": 16444.399999999998,
            "count": 0
           },
           {
            "bin_start": 16444.399999999998,
            "bin_end": 18793.6,
            "count": 0
           },
           {
            "bin_start": 18793.6,
            "bin_end": 21142.8,
            "count": 0
           },
           {
            "bin_start": 21142.8,
            "bin_end": 23492,
            "count": 1
           }
          ]
         }
        },
        {
         "name": "Spa",
         "dtype": "float64",
         "stats": {
          "unique_count": 6,
          "nan_count": 0,
          "min": "0.0",
          "max": "22408.0",
          "histogram": [
           {
            "bin_start": 0,
            "bin_end": 2240.8,
            "count": 6
           },
           {
            "bin_start": 2240.8,
            "bin_end": 4481.6,
            "count": 0
           },
           {
            "bin_start": 4481.6,
            "bin_end": 6722.400000000001,
            "count": 0
           },
           {
            "bin_start": 6722.400000000001,
            "bin_end": 8963.2,
            "count": 1
           },
           {
            "bin_start": 8963.2,
            "bin_end": 11204,
            "count": 0
           },
           {
            "bin_start": 11204,
            "bin_end": 13444.800000000001,
            "count": 0
           },
           {
            "bin_start": 13444.800000000001,
            "bin_end": 15685.600000000002,
            "count": 0
           },
           {
            "bin_start": 15685.600000000002,
            "bin_end": 17926.4,
            "count": 0
           },
           {
            "bin_start": 17926.4,
            "bin_end": 20167.2,
            "count": 0
           },
           {
            "bin_start": 20167.2,
            "bin_end": 22408,
            "count": 1
           }
          ]
         }
        },
        {
         "name": "VRDeck",
         "dtype": "float64",
         "stats": {
          "unique_count": 6,
          "nan_count": 0,
          "min": "0.0",
          "max": "24133.0",
          "histogram": [
           {
            "bin_start": 0,
            "bin_end": 2413.3,
            "count": 6
           },
           {
            "bin_start": 2413.3,
            "bin_end": 4826.6,
            "count": 0
           },
           {
            "bin_start": 4826.6,
            "bin_end": 7239.900000000001,
            "count": 0
           },
           {
            "bin_start": 7239.900000000001,
            "bin_end": 9653.2,
            "count": 1
           },
           {
            "bin_start": 9653.2,
            "bin_end": 12066.5,
            "count": 0
           },
           {
            "bin_start": 12066.5,
            "bin_end": 14479.800000000001,
            "count": 0
           },
           {
            "bin_start": 14479.800000000001,
            "bin_end": 16893.100000000002,
            "count": 0
           },
           {
            "bin_start": 16893.100000000002,
            "bin_end": 19306.4,
            "count": 0
           },
           {
            "bin_start": 19306.4,
            "bin_end": 21719.7,
            "count": 0
           },
           {
            "bin_start": 21719.7,
            "bin_end": 24133,
            "count": 1
           }
          ]
         }
        },
        {
         "name": "_deepnote_index_column",
         "dtype": "object"
        }
       ],
       "rows": [
        {
         "Age": 8514,
         "RoomService": 8512,
         "FoodCourt": 8510,
         "ShoppingMall": 8485,
         "Spa": 8510,
         "VRDeck": 8505,
         "_deepnote_index_column": "count"
        },
        {
         "Age": 28.82793046746535,
         "RoomService": 224.687617481203,
         "FoodCourt": 458.07720329024676,
         "ShoppingMall": 173.72916912197996,
         "Spa": 311.1387779083431,
         "VRDeck": 304.8547912992357,
         "_deepnote_index_column": "mean"
        },
        {
         "Age": 14.48902142390878,
         "RoomService": 666.7176629280652,
         "FoodCourt": 1611.4892403550716,
         "ShoppingMall": 604.6964584708243,
         "Spa": 1136.7055348344065,
         "VRDeck": 1145.7171888056614,
         "_deepnote_index_column": "std"
        },
        {
         "Age": 0,
         "RoomService": 0,
         "FoodCourt": 0,
         "ShoppingMall": 0,
         "Spa": 0,
         "VRDeck": 0,
         "_deepnote_index_column": "min"
        },
        {
         "Age": 19,
         "RoomService": 0,
         "FoodCourt": 0,
         "ShoppingMall": 0,
         "Spa": 0,
         "VRDeck": 0,
         "_deepnote_index_column": "25%"
        },
        {
         "Age": 27,
         "RoomService": 0,
         "FoodCourt": 0,
         "ShoppingMall": 0,
         "Spa": 0,
         "VRDeck": 0,
         "_deepnote_index_column": "50%"
        },
        {
         "Age": 38,
         "RoomService": 47,
         "FoodCourt": 76,
         "ShoppingMall": 27,
         "Spa": 59,
         "VRDeck": 46,
         "_deepnote_index_column": "75%"
        },
        {
         "Age": 79,
         "RoomService": 14327,
         "FoodCourt": 29813,
         "ShoppingMall": 23492,
         "Spa": 22408,
         "VRDeck": 24133,
         "_deepnote_index_column": "max"
        }
       ]
      },
      "text/plain": "               Age   RoomService     FoodCourt  ShoppingMall           Spa  \\\ncount  8514.000000   8512.000000   8510.000000   8485.000000   8510.000000   \nmean     28.827930    224.687617    458.077203    173.729169    311.138778   \nstd      14.489021    666.717663   1611.489240    604.696458   1136.705535   \nmin       0.000000      0.000000      0.000000      0.000000      0.000000   \n25%      19.000000      0.000000      0.000000      0.000000      0.000000   \n50%      27.000000      0.000000      0.000000      0.000000      0.000000   \n75%      38.000000     47.000000     76.000000     27.000000     59.000000   \nmax      79.000000  14327.000000  29813.000000  23492.000000  22408.000000   \n\n             VRDeck  \ncount   8505.000000  \nmean     304.854791  \nstd     1145.717189  \nmin        0.000000  \n25%        0.000000  \n50%        0.000000  \n75%       46.000000  \nmax    24133.000000  ",
      "text/html": "<div>\n<style scoped>\n    .dataframe tbody tr th:only-of-type {\n        vertical-align: middle;\n    }\n\n    .dataframe tbody tr th {\n        vertical-align: top;\n    }\n\n    .dataframe thead th {\n        text-align: right;\n    }\n</style>\n<table border=\"1\" class=\"dataframe\">\n  <thead>\n    <tr style=\"text-align: right;\">\n      <th></th>\n      <th>Age</th>\n      <th>RoomService</th>\n      <th>FoodCourt</th>\n      <th>ShoppingMall</th>\n      <th>Spa</th>\n      <th>VRDeck</th>\n    </tr>\n  </thead>\n  <tbody>\n    <tr>\n      <th>count</th>\n      <td>8514.000000</td>\n      <td>8512.000000</td>\n      <td>8510.000000</td>\n      <td>8485.000000</td>\n      <td>8510.000000</td>\n      <td>8505.000000</td>\n    </tr>\n    <tr>\n      <th>mean</th>\n      <td>28.827930</td>\n      <td>224.687617</td>\n      <td>458.077203</td>\n      <td>173.729169</td>\n      <td>311.138778</td>\n      <td>304.854791</td>\n    </tr>\n    <tr>\n      <th>std</th>\n      <td>14.489021</td>\n      <td>666.717663</td>\n      <td>1611.489240</td>\n      <td>604.696458</td>\n      <td>1136.705535</td>\n      <td>1145.717189</td>\n    </tr>\n    <tr>\n      <th>min</th>\n      <td>0.000000</td>\n      <td>0.000000</td>\n      <td>0.000000</td>\n      <td>0.000000</td>\n      <td>0.000000</td>\n      <td>0.000000</td>\n    </tr>\n    <tr>\n      <th>25%</th>\n      <td>19.000000</td>\n      <td>0.000000</td>\n      <td>0.000000</td>\n      <td>0.000000</td>\n      <td>0.000000</td>\n      <td>0.000000</td>\n    </tr>\n    <tr>\n      <th>50%</th>\n      <td>27.000000</td>\n      <td>0.000000</td>\n      <td>0.000000</td>\n      <td>0.000000</td>\n      <td>0.000000</td>\n      <td>0.000000</td>\n    </tr>\n    <tr>\n      <th>75%</th>\n      <td>38.000000</td>\n      <td>47.000000</td>\n      <td>76.000000</td>\n      <td>27.000000</td>\n      <td>59.000000</td>\n      <td>46.000000</td>\n    </tr>\n    <tr>\n      <th>max</th>\n      <td>79.000000</td>\n      <td>14327.000000</td>\n      <td>29813.000000</td>\n      <td>23492.000000</td>\n      <td>22408.000000</td>\n      <td>24133.000000</td>\n    </tr>\n  </tbody>\n</table>\n</div>"
     },
     "metadata": {}
    }
   ]
  },
  {
   "cell_type": "code",
   "metadata": {
    "cell_id": "c6df7a6c72a048618aec1d00f129ba00",
    "tags": [],
    "deepnote_to_be_reexecuted": false,
    "source_hash": "de1e323c",
    "execution_start": 1658810290832,
    "execution_millis": 17,
    "deepnote_app_coordinates": {
     "x": 0,
     "y": 43,
     "w": 12,
     "h": 5
    },
    "deepnote_cell_type": "code",
    "deepnote_cell_height": 515.9375
   },
   "source": "df.info()",
   "execution_count": null,
   "outputs": [
    {
     "name": "stdout",
     "text": "<class 'pandas.core.frame.DataFrame'>\nRangeIndex: 8693 entries, 0 to 8692\nData columns (total 14 columns):\n #   Column        Non-Null Count  Dtype  \n---  ------        --------------  -----  \n 0   PassengerId   8693 non-null   object \n 1   HomePlanet    8492 non-null   object \n 2   CryoSleep     8476 non-null   object \n 3   Cabin         8494 non-null   object \n 4   Destination   8511 non-null   object \n 5   Age           8514 non-null   float64\n 6   VIP           8490 non-null   object \n 7   RoomService   8512 non-null   float64\n 8   FoodCourt     8510 non-null   float64\n 9   ShoppingMall  8485 non-null   float64\n 10  Spa           8510 non-null   float64\n 11  VRDeck        8505 non-null   float64\n 12  Name          8493 non-null   object \n 13  Transported   8693 non-null   bool   \ndtypes: bool(1), float64(6), object(7)\nmemory usage: 891.5+ KB\n",
     "output_type": "stream"
    }
   ]
  },
  {
   "cell_type": "code",
   "metadata": {
    "cell_id": "dc3eca2746b0492b95a1f1b5bb5f9208",
    "tags": [],
    "deepnote_to_be_reexecuted": false,
    "source_hash": "a78f86cf",
    "execution_start": 1658810293266,
    "execution_millis": 19,
    "owner_user_id": "1ccbccd1-8a61-41cc-8494-76a088a875a9",
    "deepnote_app_coordinates": {
     "x": 0,
     "y": 49,
     "w": 12,
     "h": 5
    },
    "deepnote_cell_type": "code",
    "deepnote_cell_height": 607,
    "deepnote_output_heights": [
     438
    ]
   },
   "source": "NA = pd.DataFrame(data=[df.isna().sum().tolist(), [\"{:.2f}\".format(i)+'%' \\\n           for i in (df.isna().sum()/df.shape[0]*100).tolist()]], \n           columns=df.columns, index=['NA Count', 'NA Percent']).transpose()\n\nNA.style.background_gradient(cmap=\"Pastel1_r\", subset=['NA Count'])",
   "execution_count": null,
   "outputs": [
    {
     "output_type": "execute_result",
     "execution_count": 22,
     "data": {
      "text/plain": "<pandas.io.formats.style.Styler at 0x7f0b5b609610>",
      "text/html": "<style  type=\"text/css\" >\n#T_b0019_row0_col0,#T_b0019_row13_col0{\n            background-color:  #f2f2f2;\n            color:  #000000;\n        }#T_b0019_row1_col0,#T_b0019_row2_col0,#T_b0019_row3_col0,#T_b0019_row6_col0,#T_b0019_row9_col0,#T_b0019_row12_col0{\n            background-color:  #fbb4ae;\n            color:  #000000;\n        }#T_b0019_row4_col0,#T_b0019_row5_col0,#T_b0019_row7_col0,#T_b0019_row8_col0,#T_b0019_row10_col0,#T_b0019_row11_col0{\n            background-color:  #b3cde3;\n            color:  #000000;\n        }</style><table id=\"T_b0019_\" ><thead>    <tr>        <th class=\"blank level0\" ></th>        <th class=\"col_heading level0 col0\" >NA Count</th>        <th class=\"col_heading level0 col1\" >NA Percent</th>    </tr></thead><tbody>\n                <tr>\n                        <th id=\"T_b0019_level0_row0\" class=\"row_heading level0 row0\" >PassengerId</th>\n                        <td id=\"T_b0019_row0_col0\" class=\"data row0 col0\" >0</td>\n                        <td id=\"T_b0019_row0_col1\" class=\"data row0 col1\" >0.00%</td>\n            </tr>\n            <tr>\n                        <th id=\"T_b0019_level0_row1\" class=\"row_heading level0 row1\" >HomePlanet</th>\n                        <td id=\"T_b0019_row1_col0\" class=\"data row1 col0\" >201</td>\n                        <td id=\"T_b0019_row1_col1\" class=\"data row1 col1\" >2.31%</td>\n            </tr>\n            <tr>\n                        <th id=\"T_b0019_level0_row2\" class=\"row_heading level0 row2\" >CryoSleep</th>\n                        <td id=\"T_b0019_row2_col0\" class=\"data row2 col0\" >217</td>\n                        <td id=\"T_b0019_row2_col1\" class=\"data row2 col1\" >2.50%</td>\n            </tr>\n            <tr>\n                        <th id=\"T_b0019_level0_row3\" class=\"row_heading level0 row3\" >Cabin</th>\n                        <td id=\"T_b0019_row3_col0\" class=\"data row3 col0\" >199</td>\n                        <td id=\"T_b0019_row3_col1\" class=\"data row3 col1\" >2.29%</td>\n            </tr>\n            <tr>\n                        <th id=\"T_b0019_level0_row4\" class=\"row_heading level0 row4\" >Destination</th>\n                        <td id=\"T_b0019_row4_col0\" class=\"data row4 col0\" >182</td>\n                        <td id=\"T_b0019_row4_col1\" class=\"data row4 col1\" >2.09%</td>\n            </tr>\n            <tr>\n                        <th id=\"T_b0019_level0_row5\" class=\"row_heading level0 row5\" >Age</th>\n                        <td id=\"T_b0019_row5_col0\" class=\"data row5 col0\" >179</td>\n                        <td id=\"T_b0019_row5_col1\" class=\"data row5 col1\" >2.06%</td>\n            </tr>\n            <tr>\n                        <th id=\"T_b0019_level0_row6\" class=\"row_heading level0 row6\" >VIP</th>\n                        <td id=\"T_b0019_row6_col0\" class=\"data row6 col0\" >203</td>\n                        <td id=\"T_b0019_row6_col1\" class=\"data row6 col1\" >2.34%</td>\n            </tr>\n            <tr>\n                        <th id=\"T_b0019_level0_row7\" class=\"row_heading level0 row7\" >RoomService</th>\n                        <td id=\"T_b0019_row7_col0\" class=\"data row7 col0\" >181</td>\n                        <td id=\"T_b0019_row7_col1\" class=\"data row7 col1\" >2.08%</td>\n            </tr>\n            <tr>\n                        <th id=\"T_b0019_level0_row8\" class=\"row_heading level0 row8\" >FoodCourt</th>\n                        <td id=\"T_b0019_row8_col0\" class=\"data row8 col0\" >183</td>\n                        <td id=\"T_b0019_row8_col1\" class=\"data row8 col1\" >2.11%</td>\n            </tr>\n            <tr>\n                        <th id=\"T_b0019_level0_row9\" class=\"row_heading level0 row9\" >ShoppingMall</th>\n                        <td id=\"T_b0019_row9_col0\" class=\"data row9 col0\" >208</td>\n                        <td id=\"T_b0019_row9_col1\" class=\"data row9 col1\" >2.39%</td>\n            </tr>\n            <tr>\n                        <th id=\"T_b0019_level0_row10\" class=\"row_heading level0 row10\" >Spa</th>\n                        <td id=\"T_b0019_row10_col0\" class=\"data row10 col0\" >183</td>\n                        <td id=\"T_b0019_row10_col1\" class=\"data row10 col1\" >2.11%</td>\n            </tr>\n            <tr>\n                        <th id=\"T_b0019_level0_row11\" class=\"row_heading level0 row11\" >VRDeck</th>\n                        <td id=\"T_b0019_row11_col0\" class=\"data row11 col0\" >188</td>\n                        <td id=\"T_b0019_row11_col1\" class=\"data row11 col1\" >2.16%</td>\n            </tr>\n            <tr>\n                        <th id=\"T_b0019_level0_row12\" class=\"row_heading level0 row12\" >Name</th>\n                        <td id=\"T_b0019_row12_col0\" class=\"data row12 col0\" >200</td>\n                        <td id=\"T_b0019_row12_col1\" class=\"data row12 col1\" >2.30%</td>\n            </tr>\n            <tr>\n                        <th id=\"T_b0019_level0_row13\" class=\"row_heading level0 row13\" >Transported</th>\n                        <td id=\"T_b0019_row13_col0\" class=\"data row13 col0\" >0</td>\n                        <td id=\"T_b0019_row13_col1\" class=\"data row13 col1\" >0.00%</td>\n            </tr>\n    </tbody></table>"
     },
     "metadata": {}
    }
   ]
  },
  {
   "cell_type": "code",
   "metadata": {
    "cell_id": "ac81ff5660e7454e91d2c2e429fe6bfa",
    "tags": [],
    "deepnote_to_be_reexecuted": false,
    "source_hash": "637481eb",
    "execution_start": 1658810295602,
    "execution_millis": 10,
    "deepnote_app_coordinates": {
     "x": 0,
     "y": 55,
     "w": 12,
     "h": 5
    },
    "deepnote_cell_type": "code",
    "deepnote_cell_height": 226.1875,
    "deepnote_output_heights": [
     21.1875
    ]
   },
   "source": "all_col = df.columns\ncat_na = ['HomePlanet', 'CryoSleep','Destination','VIP']\nnum_na = ['Age','RoomService', 'FoodCourt', 'ShoppingMall', 'Spa', 'VRDeck']\ndata1 = df.copy()\ndata2 = df.copy()\n\ndata1['Age'].isna().sum()",
   "execution_count": null,
   "outputs": [
    {
     "output_type": "execute_result",
     "execution_count": 23,
     "data": {
      "text/plain": "179"
     },
     "metadata": {}
    }
   ]
  },
  {
   "cell_type": "code",
   "metadata": {
    "cell_id": "089538d5a78e44afbabed5e0c9b145d1",
    "tags": [],
    "deepnote_to_be_reexecuted": false,
    "source_hash": "a391c291",
    "execution_start": 1658810299225,
    "execution_millis": 5,
    "deepnote_app_coordinates": {
     "x": 0,
     "y": 61,
     "w": 12,
     "h": 5
    },
    "deepnote_cell_type": "code",
    "deepnote_cell_height": 192.9375
   },
   "source": "print(data1['Age'].sort_values().unique())",
   "execution_count": null,
   "outputs": [
    {
     "name": "stdout",
     "text": "[ 0.  1.  2.  3.  4.  5.  6.  7.  8.  9. 10. 11. 12. 13. 14. 15. 16. 17.\n 18. 19. 20. 21. 22. 23. 24. 25. 26. 27. 28. 29. 30. 31. 32. 33. 34. 35.\n 36. 37. 38. 39. 40. 41. 42. 43. 44. 45. 46. 47. 48. 49. 50. 51. 52. 53.\n 54. 55. 56. 57. 58. 59. 60. 61. 62. 63. 64. 65. 66. 67. 68. 69. 70. 71.\n 72. 73. 74. 75. 76. 77. 78. 79. nan]\n",
     "output_type": "stream"
    }
   ]
  },
  {
   "cell_type": "code",
   "metadata": {
    "cell_id": "cb97d9ef745e4f88a7a1cb92108c4f74",
    "tags": [],
    "deepnote_to_be_reexecuted": false,
    "source_hash": "b28acc23",
    "execution_start": 1658810301051,
    "execution_millis": 7,
    "deepnote_app_coordinates": {
     "x": 0,
     "y": 67,
     "w": 12,
     "h": 5
    },
    "deepnote_cell_type": "code",
    "deepnote_cell_height": 172.1875,
    "deepnote_output_heights": [
     21.1875
    ]
   },
   "source": "imp = SimpleImputer(strategy='mean')\ndata1['Age'] = imp.fit_transform(data1['Age'].values.reshape(-1, 1) )\n\ndata1['Age'].isna().sum()",
   "execution_count": null,
   "outputs": [
    {
     "output_type": "execute_result",
     "execution_count": 25,
     "data": {
      "text/plain": "0"
     },
     "metadata": {}
    }
   ]
  },
  {
   "cell_type": "code",
   "metadata": {
    "cell_id": "7c2aa68eed944737824799c9367e9578",
    "tags": [],
    "deepnote_to_be_reexecuted": false,
    "source_hash": "58cb149",
    "execution_start": 1658810302811,
    "execution_millis": 638,
    "deepnote_app_coordinates": {
     "x": 0,
     "y": 73,
     "w": 12,
     "h": 5
    },
    "deepnote_cell_type": "code",
    "deepnote_cell_height": 118.1875,
    "deepnote_output_heights": [
     21.1875
    ]
   },
   "source": "data1['HomePlanet'].isna().sum()",
   "execution_count": null,
   "outputs": [
    {
     "output_type": "execute_result",
     "execution_count": 26,
     "data": {
      "text/plain": "201"
     },
     "metadata": {}
    }
   ]
  },
  {
   "cell_type": "code",
   "metadata": {
    "cell_id": "b82203338bf54987b3f53c278025f197",
    "tags": [],
    "deepnote_to_be_reexecuted": false,
    "source_hash": "1a9cd68c",
    "execution_start": 1658810307268,
    "execution_millis": 18,
    "deepnote_app_coordinates": {
     "x": 0,
     "y": 79,
     "w": 12,
     "h": 5
    },
    "deepnote_cell_type": "code",
    "deepnote_cell_height": 112.1875
   },
   "source": "print(data1['HomePlanet'].sort_values().unique())",
   "execution_count": null,
   "outputs": [
    {
     "name": "stdout",
     "text": "['Earth' 'Europa' 'Mars' nan]\n",
     "output_type": "stream"
    }
   ]
  },
  {
   "cell_type": "code",
   "metadata": {
    "cell_id": "1e6d1854167447e0a31aedad1bce796b",
    "tags": [],
    "deepnote_to_be_reexecuted": false,
    "source_hash": "b2ef28a9",
    "execution_start": 1658810312207,
    "execution_millis": 9,
    "deepnote_app_coordinates": {
     "x": 0,
     "y": 85,
     "w": 12,
     "h": 5
    },
    "deepnote_cell_type": "code",
    "deepnote_cell_height": 172.1875,
    "deepnote_output_heights": [
     21.1875
    ]
   },
   "source": "imputer = SimpleImputer(strategy='most_frequent')\ndata1['HomePlanet']=imputer.fit_transform(data1['HomePlanet'].values.reshape(-1,1))\n\ndata1['HomePlanet'].isna().sum()",
   "execution_count": null,
   "outputs": [
    {
     "output_type": "execute_result",
     "execution_count": 28,
     "data": {
      "text/plain": "0"
     },
     "metadata": {}
    }
   ]
  },
  {
   "cell_type": "code",
   "metadata": {
    "cell_id": "e51f8e5c5031414581505d85056f8482",
    "tags": [],
    "deepnote_to_be_reexecuted": false,
    "source_hash": "ac2126be",
    "execution_start": 1658810315530,
    "execution_millis": 8,
    "deepnote_app_coordinates": {
     "x": 0,
     "y": 91,
     "w": 12,
     "h": 5
    },
    "deepnote_cell_type": "code",
    "deepnote_cell_height": 233.3125,
    "deepnote_output_heights": [
     136.3125
    ]
   },
   "source": "data2[num_na].isna().sum()",
   "execution_count": null,
   "outputs": [
    {
     "output_type": "execute_result",
     "execution_count": 29,
     "data": {
      "text/plain": "Age             179\nRoomService     181\nFoodCourt       183\nShoppingMall    208\nSpa             183\nVRDeck          188\ndtype: int64"
     },
     "metadata": {}
    }
   ]
  },
  {
   "cell_type": "code",
   "metadata": {
    "cell_id": "4cb331d762204a29afa507144306f68b",
    "tags": [],
    "deepnote_to_be_reexecuted": false,
    "source_hash": "77e03e99",
    "execution_start": 1658810423737,
    "execution_millis": 3,
    "deepnote_app_coordinates": {
     "x": 0,
     "y": 97,
     "w": 12,
     "h": 5
    },
    "deepnote_cell_type": "code",
    "deepnote_cell_height": 323.3125,
    "deepnote_output_heights": [
     136.3125
    ]
   },
   "source": "iter_imputer = IterativeImputer(max_iter=10,random_state=0)\ndata2[num_na] = imp.fit_transform(data2[num_na])\n\n\ndata2[num_na].isna().sum()\n",
   "execution_count": null,
   "outputs": [
    {
     "output_type": "execute_result",
     "execution_count": 32,
     "data": {
      "text/plain": "Age             0\nRoomService     0\nFoodCourt       0\nShoppingMall    0\nSpa             0\nVRDeck          0\ndtype: int64"
     },
     "metadata": {}
    }
   ]
  },
  {
   "cell_type": "code",
   "metadata": {
    "cell_id": "d856c60f85384c52a0870039838bb5d7",
    "tags": [],
    "deepnote_to_be_reexecuted": false,
    "source_hash": "7b3d2908",
    "execution_start": 1658810532729,
    "execution_millis": 1,
    "deepnote_app_coordinates": {
     "x": 0,
     "y": 103,
     "w": 12,
     "h": 5
    },
    "deepnote_cell_type": "code",
    "deepnote_cell_height": 153
   },
   "source": "from sklearn.preprocessing import LabelEncoder, StandardScaler, OrdinalEncoder\nfrom sklearn.tree import DecisionTreeClassifier\nfrom sklearn.model_selection import train_test_split\nX,y = df.drop(['Transported','PassengerId','Name','Cabin'],axis = 1) , df['Transported']\nX_train, X_test, y_train, y_test = train_test_split(X, y, test_size=100, random_state=0)",
   "execution_count": null,
   "outputs": []
  },
  {
   "cell_type": "code",
   "metadata": {
    "cell_id": "bac073920af245efbc58df4caa132574",
    "tags": [],
    "deepnote_to_be_reexecuted": false,
    "source_hash": "c36e03ac",
    "execution_start": 1658810536029,
    "execution_millis": 1,
    "deepnote_app_coordinates": {
     "x": 0,
     "y": 109,
     "w": 12,
     "h": 5
    },
    "deepnote_cell_type": "code",
    "deepnote_cell_height": 189
   },
   "source": "numeric_transformer = Pipeline(steps=[\n   ('imputer', KNNImputer(n_neighbors=2, weights=\"uniform\")),\n   ('scaler', StandardScaler())])\n\ncategorical_transformer = Pipeline(steps=[\n   ('imputer', SimpleImputer(strategy='most_frequent')),\n   ('onehot', OrdinalEncoder())])",
   "execution_count": null,
   "outputs": []
  },
  {
   "cell_type": "code",
   "metadata": {
    "cell_id": "680a9a266c6748aa8bfa2ddfb9c8376b",
    "tags": [],
    "deepnote_to_be_reexecuted": false,
    "source_hash": "64fa5201",
    "execution_start": 1658810538128,
    "execution_millis": 2,
    "deepnote_app_coordinates": {
     "x": 0,
     "y": 115,
     "w": 12,
     "h": 5
    },
    "deepnote_cell_type": "code",
    "deepnote_cell_height": 171
   },
   "source": "preprocessor = ColumnTransformer(\n   remainder = 'passthrough',\n   transformers=[\n       ('numeric', numeric_transformer, num_na),\n       ('categorical', categorical_transformer, cat_na)\n])",
   "execution_count": null,
   "outputs": []
  },
  {
   "cell_type": "code",
   "metadata": {
    "cell_id": "24b17e8c199047d3a031233739085fd3",
    "tags": [],
    "deepnote_to_be_reexecuted": false,
    "source_hash": "95c846cc",
    "execution_start": 1658810540542,
    "execution_millis": 0,
    "deepnote_app_coordinates": {
     "x": 0,
     "y": 121,
     "w": 12,
     "h": 5
    },
    "deepnote_cell_type": "code",
    "deepnote_cell_height": 171
   },
   "source": "transform = Pipeline(\n   steps=[\n       (\"processing\", preprocessor),\n       (\"DecisionTreeClassifier\", DecisionTreeClassifier()),\n   ]\n)",
   "execution_count": null,
   "outputs": []
  },
  {
   "cell_type": "code",
   "metadata": {
    "cell_id": "ad38084852054f22b92c8376e639c45f",
    "tags": [],
    "deepnote_to_be_reexecuted": false,
    "source_hash": "2142a07e",
    "execution_start": 1658810543478,
    "execution_millis": 607,
    "deepnote_app_coordinates": {
     "x": 0,
     "y": 127,
     "w": 12,
     "h": 5
    },
    "deepnote_cell_type": "code",
    "deepnote_cell_height": 136.1875,
    "deepnote_output_heights": [
     21.1875
    ]
   },
   "source": "model = transform.fit(X_train,y_train)\nmodel.score(X_test, y_test)",
   "execution_count": null,
   "outputs": [
    {
     "output_type": "execute_result",
     "execution_count": 37,
     "data": {
      "text/plain": "0.75"
     },
     "metadata": {}
    }
   ]
  },
  {
   "cell_type": "code",
   "metadata": {
    "cell_id": "53029a2c3b67470f83e9d7e1cf795f04",
    "tags": [],
    "deepnote_to_be_reexecuted": false,
    "source_hash": "3069e348",
    "execution_start": 1658810553703,
    "execution_millis": 402,
    "deepnote_app_coordinates": {
     "x": 0,
     "y": 133,
     "w": 12,
     "h": 5
    },
    "deepnote_cell_type": "code",
    "deepnote_cell_height": 309.6875
   },
   "source": "from sklearn.metrics import classification_report\nprediction = model.predict(X_test)\nprint(classification_report(prediction, y_test))",
   "execution_count": null,
   "outputs": [
    {
     "name": "stdout",
     "text": "              precision    recall  f1-score   support\n\n       False       0.70      0.74      0.72        43\n        True       0.80      0.75      0.77        57\n\n    accuracy                           0.75       100\n   macro avg       0.75      0.75      0.75       100\nweighted avg       0.75      0.75      0.75       100\n\n",
     "output_type": "stream"
    }
   ]
  },
  {
   "cell_type": "markdown",
   "source": "<a style='text-decoration:none;line-height:16px;display:flex;color:#5B5B62;padding:10px;justify-content:end;' href='https://deepnote.com?utm_source=created-in-deepnote-cell&projectId=0d217d35-6062-44b6-ba39-a8e99f4cf3e0' target=\"_blank\">\n<img alt='Created in deepnote.com' style='display:inline;max-height:16px;margin:0px;margin-right:7.5px;' src='data:image/svg+xml;base64,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' > </img>\nCreated in <span style='font-weight:600;margin-left:4px;'>Deepnote</span></a>",
   "metadata": {
    "tags": [],
    "created_in_deepnote_cell": true,
    "deepnote_cell_type": "markdown"
   }
  }
 ],
 "nbformat": 4,
 "nbformat_minor": 2,
 "metadata": {
  "orig_nbformat": 2,
  "deepnote": {},
  "deepnote_notebook_id": "160cd2cb-f0a9-402d-91ba-0ad55e55dad9",
  "deepnote_execution_queue": [],
  "deepnote_app_layout": "article"
 }
}