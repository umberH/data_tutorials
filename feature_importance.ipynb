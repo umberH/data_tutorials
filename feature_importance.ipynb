{
  "nbformat": 4,
  "nbformat_minor": 0,
  "metadata": {
    "colab": {
      "provenance": [],
      "authorship_tag": "ABX9TyOpfBEWxdJPPf7VUty3ECbq",
      "include_colab_link": true
    },
    "kernelspec": {
      "name": "python3",
      "display_name": "Python 3"
    },
    "language_info": {
      "name": "python"
    }
  },
  "cells": [
    {
      "cell_type": "markdown",
      "metadata": {
        "id": "view-in-github",
        "colab_type": "text"
      },
      "source": [
        "<a href=\"https://colab.research.google.com/github/umberH/data_tutorials/blob/main/feature_importance.ipynb\" target=\"_parent\"><img src=\"https://colab.research.google.com/assets/colab-badge.svg\" alt=\"Open In Colab\"/></a>"
      ]
    },
    {
      "cell_type": "markdown",
      "source": [
        "### Feature Importance"
      ],
      "metadata": {
        "id": "Is0SoA6v4sEF"
      }
    },
    {
      "cell_type": "markdown",
      "source": [
        "Feature Importance for the Classifier model \n",
        "\n",
        "We are using permutation  importance from sklearn to calculate the permutation based importance \n"
      ],
      "metadata": {
        "id": "SqUjr0lP4Agu"
      }
    },
    {
      "cell_type": "code",
      "execution_count": 9,
      "metadata": {
        "colab": {
          "base_uri": "https://localhost:8080/",
          "height": 612
        },
        "id": "nQC4pzG9t79E",
        "outputId": "736234e2-d834-4c80-9c39-a15d86545921"
      },
      "outputs": [
        {
          "output_type": "stream",
          "name": "stdout",
          "text": [
            "Feature: 0  Score: -0.005976095617529964\n",
            "Feature: 1  Score: -0.003187250996016\n",
            "Feature: 2  Score: -0.0007968127490040278\n",
            "Feature: 3  Score: -0.0003984063745020139\n",
            "Feature: 4  Score: 0.0015936254980079667\n",
            "Feature: 5  Score: 0.0019920318725099363\n",
            "Feature: 6  Score: 0.0027888446215139197\n",
            "Feature: 7  Score: 0.0027888446215139197\n",
            "Feature: 8  Score: 0.0031872509960159333\n",
            "Feature: 9  Score: 0.005577689243027884\n",
            "Feature: 10  Score: 0.007569721115537842\n",
            "Feature: 11  Score: 0.008366533864541826\n",
            "Feature: 12  Score: 0.010358565737051784\n",
            "Feature: 13  Score: 0.012749003984063733\n",
            "Feature: 14  Score: 0.02589641434262946\n",
            "Feature: 15  Score: 0.030278884462151368\n",
            "Feature: 16  Score: 0.03904382470119518\n",
            "Feature: 17  Score: 0.041832669322709126\n",
            "Feature: 18  Score: 0.04462151394422307\n",
            "Feature: 19  Score: 0.045418326693227054\n"
          ]
        },
        {
          "output_type": "display_data",
          "data": {
            "text/plain": [
              "<Figure size 432x288 with 1 Axes>"
            ],
            "image/png": "[encoded data removed]"
          },
          "metadata": {}
        }
      ],
      "source": [
        "import numpy as np\n",
        "from sklearn.datasets import make_classification\n",
        "from sklearn.neighbors import KNeighborsClassifier\n",
        "from sklearn.inspection import permutation_importance\n",
        "from matplotlib import pyplot\n",
        "\n",
        "\n",
        "# define dataset\n",
        "X, y = make_classification(n_samples=1000, n_features=20, n_informative=5, random_state=1)\n",
        "# define the model\n",
        "model = KNeighborsClassifier()\n",
        "# fit the model\n",
        "model.fit(X, y)\n",
        "# perform permutation importance\n",
        "results = permutation_importance(model, X, y, scoring='recall')\n",
        "# get importance\n",
        "importance = results.importances_mean\n",
        "importance = np.sort(importance)\n",
        "# summarize feature importance\n",
        "for index ,value in enumerate(importance):\n",
        "    print('Feature: {}  Score: {}' .format(index,value))\n",
        "# plot feature importance\n",
        "sns.set_style(\"darkgrid\")\n",
        "pyplot.bar([x for x in range(len(importance))] ,importance)\n",
        "pyplot.show()"
      ]
    },
    {
      "cell_type": "markdown",
      "source": [
        "Feature importance for the linear Regression Model"
      ],
      "metadata": {
        "id": "suFo4nrP4mhW"
      }
    },
    {
      "cell_type": "code",
      "source": [
        "import pandas as pd\n",
        "import numpy as np\n",
        "from sklearn.datasets import make_classification\n",
        "from sklearn.linear_model import LogisticRegression\n",
        "import matplotlib.pyplot as plt\n",
        "import seaborn as sns\n",
        "X, y = make_classification(n_samples=1000, n_features=10, n_informative=5, n_redundant=5, random_state=1)\n",
        "model=LogisticRegression()\n",
        "model.fit(X,y)\n",
        "importance=model.coef_[0]\n",
        "importance=np.sort(importance)\n",
        "importance"
      ],
      "metadata": {
        "colab": {
          "base_uri": "https://localhost:8080/"
        },
        "id": "E8Avho_vu6r8",
        "outputId": "7d101f8f-1898-48eb-b5ac-0e235790db24"
      },
      "execution_count": 8,
      "outputs": [
        {
          "output_type": "execute_result",
          "data": {
            "text/plain": [
              "array([-0.64301454, -0.51785423, -0.46189527, -0.4060204 , -0.11978098,\n",
              "        0.03771881,  0.16319742,  0.18431777,  0.26539871,  0.4849665 ])"
            ]
          },
          "metadata": {},
          "execution_count": 8
        }
      ]
    },
    {
      "cell_type": "code",
      "source": [
        "import pandas as pd\n",
        "import numpy as np\n",
        "from sklearn.datasets import make_regression\n",
        "from sklearn.linear_model import LinearRegression\n",
        "import matplotlib.pyplot as plt\n",
        "import seaborn as sns\n",
        "X, y = make_regression(n_samples=1000, n_features=10, n_informative=5, random_state=1)\n",
        "model=LinearRegression()\n",
        "model.fit(X,y)\n",
        "importance=model.coef_\n",
        "importance=np.sort(importance)\n",
        "#plotting the features and their score in ascending order\n",
        "sns.set_style(\"darkgrid\")\n",
        "plt.bar([i for i in range (len(importance))],importance)\n",
        "plt.show()\n"
      ],
      "metadata": {
        "colab": {
          "base_uri": "https://localhost:8080/",
          "height": 265
        },
        "id": "puM8S4M-2yEg",
        "outputId": "8ad8cc56-44d8-47e9-c608-3c414cfd65b3"
      },
      "execution_count": 11,
      "outputs": [
        {
          "output_type": "display_data",
          "data": {
            "text/plain": [
              "<Figure size 432x288 with 1 Axes>"
            ],
            "image/png": "[encoded data removed]"
          },
          "metadata": {}
        }
      ]
    },
    {
      "cell_type": "markdown",
      "source": [
        "Decision Tree for feature Importance on Regressor Model "
      ],
      "metadata": {
        "id": "F_Vp8Taa4xoT"
      }
    },
    {
      "cell_type": "code",
      "source": [
        "#decision tree for feature importance on a regression problem\n",
        "from sklearn.datasets import make_regression\n",
        "from sklearn.tree import DecisionTreeRegressor\n",
        "import matplotlib.pyplot as plt\n",
        "import seaborn as sns\n",
        "import numpy as np\n",
        "X, y = make_regression(n_samples=1000, n_features=10, n_informative=5, random_state=1)\n",
        "# define the model\n",
        "model = DecisionTreeRegressor()\n",
        "# fit the model\n",
        "model.fit(X, y)\n",
        "# get importance\n",
        "importance = model.feature_importances_\n",
        "importance=np.sort(importance)\n",
        "# summarize feature importance\n",
        "for i,v in enumerate(importance):\n",
        "    print('Feature: {}, Score: {}'.format(i,v))\n",
        "# plot feature importance\n",
        "plt.bar([x for x in range(len(importance))], importance)\n",
        "plt.show()"
      ],
      "metadata": {
        "colab": {
          "base_uri": "https://localhost:8080/",
          "height": 439
        },
        "id": "zIBbzKHa37eQ",
        "outputId": "dc9dd010-4e47-474a-aae4-f825c9024540"
      },
      "execution_count": 12,
      "outputs": [
        {
          "output_type": "stream",
          "name": "stdout",
          "text": [
            "Feature: 0, Score: 0.001536983101061887\n",
            "Feature: 1, Score: 0.0018773682014440163\n",
            "Feature: 2, Score: 0.0024063182967089193\n",
            "Feature: 3, Score: 0.0025073960148572464\n",
            "Feature: 4, Score: 0.002512396989274591\n",
            "Feature: 5, Score: 0.002583524988409586\n",
            "Feature: 6, Score: 0.004305894193975919\n",
            "Feature: 7, Score: 0.027389873386225908\n",
            "Feature: 8, Score: 0.43799003487315086\n",
            "Feature: 9, Score: 0.516890209954891\n"
          ]
        },
        {
          "output_type": "display_data",
          "data": {
            "text/plain": [
              "<Figure size 432x288 with 1 Axes>"
            ],
            "image/png": "[encoded data removed]"
          },
          "metadata": {}
        }
      ]
    }
  ]
}